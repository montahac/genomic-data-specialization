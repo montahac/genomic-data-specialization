{
 "cells": [
  {
   "cell_type": "code",
   "execution_count": 2,
   "metadata": {},
   "outputs": [
    {
     "name": "stdout",
     "output_type": "stream",
     "text": [
      "sys.version_info(major=3, minor=11, micro=8, releaselevel='final', serial=0)\n"
     ]
    }
   ],
   "source": [
    "import sys\n",
    "print(sys.version_info)"
   ]
  },
  {
   "cell_type": "code",
   "execution_count": 3,
   "metadata": {},
   "outputs": [
    {
     "name": "stdout",
     "output_type": "stream",
     "text": [
      "3.11.8 | packaged by conda-forge | (main, Feb 16 2024, 20:49:36) [Clang 16.0.6 ]\n"
     ]
    }
   ],
   "source": [
    "import sys\n",
    "print(sys.version)"
   ]
  },
  {
   "cell_type": "code",
   "execution_count": 1,
   "metadata": {},
   "outputs": [
    {
     "name": "stdout",
     "output_type": "stream",
     "text": [
      "1.83\n"
     ]
    }
   ],
   "source": [
    "import Bio \n",
    "print (Bio.__version__)"
   ]
  },
  {
   "cell_type": "code",
   "execution_count": 10,
   "metadata": {},
   "outputs": [
    {
     "name": "stdout",
     "output_type": "stream",
     "text": [
      "Top hit:\n",
      "Title: gi|1783584753|gb|MN651324.1| Nicotiana tabacum strain zhongyan90 cytoplasmic male sterility(CMS) line cultivar MSzhongyan90 mitochondrion, complete genome\n",
      "Length: 530869\n",
      "E value: 3.09024e-95\n",
      "Sequence: TGGGCCTCATATTTATCCTATATACCATGTTCGTATGGTGGCGCGATGTTCTACGTGAATCCACGTTCGAAGGACATCATACCAAAGTCGTACAATTAGGACCTCGATATGGTTTTATTCTGTTTATCGTATCGGAGGTTATGTTCTTTTTTGCTCTTTTTCGGGCTTCTTCTCATTCTTCTTTGGCACCTACGGTAGAG\n"
     ]
    }
   ],
   "source": [
    "from Bio.Blast import NCBIWWW, NCBIXML\n",
    "\n",
    "# Define the unknown DNA sequence\n",
    "sequence_data = \"\"\"\n",
    "TGGGCCTCATATTTATCCTATATACCATGTTCGTATGGTGGCGCGATGTTCTACGTGAATCCACGTTCGAAGGACATCATACCAAAGTCGTAC\n",
    "AATTAGGACCTCGATATGGTTTTATTCTGTTTATCGTATCGGAGGTTATGTTCTTTTTTGCTCTTTTTCGGGCTTCTTCTCATTCTTCTTTGGCAC\n",
    "CTACGGTAGAG\n",
    "\"\"\"\n",
    "\n",
    "# Perform BLAST search\n",
    "result_handle = NCBIWWW.qblast(\"blastn\", \"nt\", sequence_data)\n",
    "\n",
    "# Parse the results\n",
    "blast_records = NCBIXML.read(result_handle)\n",
    "\n",
    "# Print the top hit\n",
    "if blast_records.alignments:\n",
    "    top_alignment = blast_records.alignments[0]\n",
    "    top_hsp = top_alignment.hsps[0]\n",
    "    print(\"Top hit:\")\n",
    "    print(f\"Title: {top_alignment.title}\")\n",
    "    print(f\"Length: {top_alignment.length}\")\n",
    "    print(f\"E value: {top_hsp.expect}\")\n",
    "    print(f\"Sequence: {top_hsp.sbjct}\")\n",
    "else:\n",
    "    print(\"No hits found.\")\n"
   ]
  },
  {
   "cell_type": "code",
   "execution_count": 2,
   "metadata": {},
   "outputs": [
    {
     "name": "stdout",
     "output_type": "stream",
     "text": [
      "Protein sequence: LR*\n"
     ]
    },
    {
     "name": "stderr",
     "output_type": "stream",
     "text": [
      "/Users/montaha.chowdhury/Library/Python/3.9/lib/python/site-packages/Bio/Seq.py:2880: BiopythonWarning: Partial codon, len(sequence) not a multiple of three. Explicitly trim the sequence or add trailing N before translation. This may become an error in future.\n",
      "  warnings.warn(\n"
     ]
    }
   ],
   "source": [
    "from Bio.Seq import Seq\n",
    "\n",
    "# Define the DNA sequence\n",
    "dna_sequence = Seq(\"CTACGGTAGAG\")\n",
    "\n",
    "# Translate the DNA sequence to a protein sequence\n",
    "protein_sequence = dna_sequence.translate()\n",
    "\n",
    "# Output the protein sequence\n",
    "print(\"Protein sequence:\", protein_sequence)\n"
   ]
  },
  {
   "cell_type": "code",
   "execution_count": null,
   "metadata": {},
   "outputs": [],
   "source": []
  }
 ],
 "metadata": {
  "kernelspec": {
   "display_name": "Python (myenv)",
   "language": "python",
   "name": "myenv"
  },
  "language_info": {
   "codemirror_mode": {
    "name": "ipython",
    "version": 3
   },
   "file_extension": ".py",
   "mimetype": "text/x-python",
   "name": "python",
   "nbconvert_exporter": "python",
   "pygments_lexer": "ipython3",
   "version": "3.9.6"
  }
 },
 "nbformat": 4,
 "nbformat_minor": 2
}
